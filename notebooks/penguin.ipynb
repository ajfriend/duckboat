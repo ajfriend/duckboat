{
 "cells": [
  {
   "cell_type": "code",
   "execution_count": 1,
   "metadata": {
    "execution": {
     "iopub.execute_input": "2025-02-28T22:21:12.787491Z",
     "iopub.status.busy": "2025-02-28T22:21:12.787015Z",
     "iopub.status.idle": "2025-02-28T22:21:12.951070Z",
     "shell.execute_reply": "2025-02-28T22:21:12.950660Z",
     "shell.execute_reply.started": "2025-02-28T22:21:12.787439Z"
    }
   },
   "outputs": [
    {
     "ename": "IOException",
     "evalue": "IO Error: No files found that match the pattern \"data/penguins.csv\"",
     "output_type": "error",
     "traceback": [
      "\u001b[31m---------------------------------------------------------------------------\u001b[39m",
      "\u001b[31mIOException\u001b[39m                               Traceback (most recent call last)",
      "\u001b[36mCell\u001b[39m\u001b[36m \u001b[39m\u001b[32mIn[1]\u001b[39m\u001b[32m, line 4\u001b[39m\n\u001b[32m      1\u001b[39m \u001b[38;5;28;01mimport\u001b[39;00m\u001b[38;5;250m \u001b[39m\u001b[34;01mduckboat\u001b[39;00m\u001b[38;5;250m \u001b[39m\u001b[38;5;28;01mas\u001b[39;00m\u001b[38;5;250m \u001b[39m\u001b[34;01muck\u001b[39;00m\n\u001b[32m      3\u001b[39m \u001b[38;5;66;03m# t = uck.Table('https://raw.githubusercontent.com/allisonhorst/palmerpenguins/main/inst/extdata/penguins.csv').hide()\u001b[39;00m\n\u001b[32m----> \u001b[39m\u001b[32m4\u001b[39m t = \u001b[43muck\u001b[49m\u001b[43m.\u001b[49m\u001b[43mTable\u001b[49m\u001b[43m(\u001b[49m\u001b[33;43m'\u001b[39;49m\u001b[33;43mdata/penguins.csv\u001b[39;49m\u001b[33;43m'\u001b[39;49m\u001b[43m)\u001b[49m\n\u001b[32m      5\u001b[39m t\n",
      "\u001b[36mFile \u001b[39m\u001b[32m~/work/duckboat/env/lib/python3.12/site-packages/duckboat/table.py:24\u001b[39m, in \u001b[36mTable.__init__\u001b[39m\u001b[34m(self, other, _hide)\u001b[39m\n\u001b[32m     22\u001b[39m     \u001b[38;5;28mself\u001b[39m.rel = other\n\u001b[32m     23\u001b[39m \u001b[38;5;28;01melse\u001b[39;00m:\n\u001b[32m---> \u001b[39m\u001b[32m24\u001b[39m     \u001b[38;5;28mself\u001b[39m.rel = \u001b[43mform_relation\u001b[49m\u001b[43m(\u001b[49m\u001b[43mother\u001b[49m\u001b[43m)\u001b[49m\n",
      "\u001b[36mFile \u001b[39m\u001b[32m~/work/duckboat/env/lib/python3.12/site-packages/duckboat/ddb/_relation.py:13\u001b[39m, in \u001b[36mform_relation\u001b[39m\u001b[34m(x)\u001b[39m\n\u001b[32m     10\u001b[39m \u001b[38;5;66;03m# if isinstance(df, Relation):\u001b[39;00m\n\u001b[32m     11\u001b[39m \u001b[38;5;66;03m#     df = df.arrow()\u001b[39;00m\n\u001b[32m     12\u001b[39m \u001b[38;5;28;01mif\u001b[39;00m \u001b[38;5;28misinstance\u001b[39m(x, \u001b[38;5;28mstr\u001b[39m):\n\u001b[32m---> \u001b[39m\u001b[32m13\u001b[39m     \u001b[38;5;28;01mreturn\u001b[39;00m \u001b[43mquery\u001b[49m\u001b[43m(\u001b[49m\u001b[33;43mf\u001b[39;49m\u001b[33;43m'\u001b[39;49m\u001b[33;43mselect * from \u001b[39;49m\u001b[33;43m\"\u001b[39;49m\u001b[38;5;132;43;01m{\u001b[39;49;00m\u001b[43mx\u001b[49m\u001b[38;5;132;43;01m}\u001b[39;49;00m\u001b[33;43m\"\u001b[39;49m\u001b[33;43m'\u001b[39;49m\u001b[43m)\u001b[49m\n\u001b[32m     14\u001b[39m \u001b[38;5;28;01melse\u001b[39;00m:\n\u001b[32m     15\u001b[39m     \u001b[38;5;28;01mreturn\u001b[39;00m query(\u001b[33m'\u001b[39m\u001b[33mselect * from x\u001b[39m\u001b[33m'\u001b[39m, x=x)\n",
      "\u001b[36mFile \u001b[39m\u001b[32m~/work/duckboat/env/lib/python3.12/site-packages/duckboat/ddb/_query.py:21\u001b[39m, in \u001b[36m__duckboat_query__\u001b[39m\u001b[34m(__s__, **kwargs)\u001b[39m\n\u001b[32m      6\u001b[39m \u001b[38;5;250m\u001b[39m\u001b[33;03m\"\"\"\u001b[39;00m\n\u001b[32m      7\u001b[39m \u001b[33;03mRuns a query on our DuckDB database and returns the DuckDB Relation.\u001b[39;00m\n\u001b[32m      8\u001b[39m \n\u001b[32m   (...)\u001b[39m\u001b[32m     18\u001b[39m \u001b[33;03mus hacking it together like we do here.\u001b[39;00m\n\u001b[32m     19\u001b[39m \u001b[33;03m\"\"\"\u001b[39;00m\n\u001b[32m     20\u001b[39m __inspect__.currentframe().f_locals.update(kwargs)\n\u001b[32m---> \u001b[39m\u001b[32m21\u001b[39m \u001b[38;5;28;01mreturn\u001b[39;00m \u001b[43m__duckboat_con__\u001b[49m\u001b[43m.\u001b[49m\u001b[43mquery\u001b[49m\u001b[43m(\u001b[49m\u001b[43m__s__\u001b[49m\u001b[43m)\u001b[49m\n",
      "\u001b[31mIOException\u001b[39m: IO Error: No files found that match the pattern \"data/penguins.csv\""
     ]
    }
   ],
   "source": [
    "import duckboat as uck\n",
    "\n",
    "t = uck.Table('https://raw.githubusercontent.com/allisonhorst/palmerpenguins/main/inst/extdata/penguins.csv').hide()\n",
    "# t = uck.Table('data/penguins.csv')\n",
    "t"
   ]
  },
  {
   "cell_type": "code",
   "execution_count": 3,
   "metadata": {
    "execution": {
     "iopub.execute_input": "2025-02-28T22:21:30.840945Z",
     "iopub.status.busy": "2025-02-28T22:21:30.840421Z",
     "iopub.status.idle": "2025-02-28T22:21:33.248270Z",
     "shell.execute_reply": "2025-02-28T22:21:33.247491Z",
     "shell.execute_reply.started": "2025-02-28T22:21:30.840908Z"
    }
   },
   "outputs": [
    {
     "data": {
      "text/plain": [
       "┌───────────┬───────────┬───────────┐\n",
       "│  species  │  island   │ avg_grams │\n",
       "│  varchar  │  varchar  │  double   │\n",
       "├───────────┼───────────┼───────────┤\n",
       "│ Adelie    │ Torgersen │    3193.8 │\n",
       "│ Adelie    │ Dream     │    3357.5 │\n",
       "│ Adelie    │ Biscoe    │    3446.9 │\n",
       "│ Chinstrap │ Dream     │    3522.9 │\n",
       "│ Gentoo    │ Biscoe    │    4786.3 │\n",
       "└───────────┴───────────┴───────────┘"
      ]
     },
     "execution_count": 3,
     "metadata": {},
     "output_type": "execute_result"
    }
   ],
   "source": [
    "import duckboat as uck\n",
    "\n",
    "csv = 'https://raw.githubusercontent.com/allisonhorst/palmerpenguins/main/inst/extdata/penguins.csv'\n",
    "\n",
    "uck.Table(csv).do(\n",
    "    \"where sex = 'female' \",\n",
    "    'where year > 2008',\n",
    "    'select *, cast(body_mass_g as double) as grams',\n",
    "    'select species, island, avg(grams) as avg_grams group by 1,2',\n",
    "    'select * replace (round(avg_grams, 1) as avg_grams)',\n",
    "    'order by avg_grams',\n",
    ")"
   ]
  },
  {
   "cell_type": "code",
   "execution_count": 7,
   "metadata": {
    "execution": {
     "iopub.execute_input": "2025-02-28T22:22:33.266003Z",
     "iopub.status.busy": "2025-02-28T22:22:33.264495Z",
     "iopub.status.idle": "2025-02-28T22:22:35.842374Z",
     "shell.execute_reply": "2025-02-28T22:22:35.840901Z",
     "shell.execute_reply.started": "2025-02-28T22:22:33.265949Z"
    }
   },
   "outputs": [
    {
     "data": {
      "text/plain": [
       "┌───────────┬───────────┬───────────┐\n",
       "│  species  │  island   │ avg_grams │\n",
       "│  varchar  │  varchar  │  double   │\n",
       "├───────────┼───────────┼───────────┤\n",
       "│ Adelie    │ Torgersen │    3193.8 │\n",
       "│ Adelie    │ Dream     │    3357.5 │\n",
       "│ Adelie    │ Biscoe    │    3446.9 │\n",
       "│ Chinstrap │ Dream     │    3522.9 │\n",
       "│ Gentoo    │ Biscoe    │    4786.3 │\n",
       "└───────────┴───────────┴───────────┘"
      ]
     },
     "execution_count": 7,
     "metadata": {},
     "output_type": "execute_result"
    }
   ],
   "source": [
    "import duckboat as uck\n",
    "\n",
    "uck.do(\n",
    "    'https://raw.githubusercontent.com/allisonhorst/palmerpenguins/main/inst/extdata/penguins.csv',\n",
    "    \"where sex = 'female' \",\n",
    "    'where year > 2008',\n",
    "    'select *, cast(body_mass_g as double) as grams',\n",
    "    'select species, island, avg(grams) as avg_grams group by 1,2',\n",
    "    'select * replace (round(avg_grams, 1) as avg_grams)',\n",
    "    'order by avg_grams',\n",
    "    'pandas',\n",
    "    'select *',\n",
    ")"
   ]
  },
  {
   "cell_type": "code",
   "execution_count": null,
   "metadata": {},
   "outputs": [],
   "source": []
  }
 ],
 "metadata": {
  "kernelspec": {
   "display_name": "Python 3 (ipykernel)",
   "language": "python",
   "name": "python3"
  },
  "language_info": {
   "codemirror_mode": {
    "name": "ipython",
    "version": 3
   },
   "file_extension": ".py",
   "mimetype": "text/x-python",
   "name": "python",
   "nbconvert_exporter": "python",
   "pygments_lexer": "ipython3",
   "version": "3.12.2"
  }
 },
 "nbformat": 4,
 "nbformat_minor": 4
}
